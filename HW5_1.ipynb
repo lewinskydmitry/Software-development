{
 "cells": [
  {
   "cell_type": "code",
   "execution_count": 1,
   "metadata": {},
   "outputs": [],
   "source": [
    "import warnings\n",
    "warnings.filterwarnings(\"ignore\")"
   ]
  },
  {
   "cell_type": "code",
   "execution_count": 2,
   "metadata": {},
   "outputs": [
    {
     "name": "stdout",
     "output_type": "stream",
     "text": [
      "df_share = 10%, accuracy on test = 0.4444444444444444\n",
      "df_share = 20%, accuracy on test = 0.9333333333333333\n",
      "df_share = 30%, accuracy on test = 0.9555555555555556\n",
      "df_share = 40%, accuracy on test = 0.9333333333333333\n",
      "df_share = 50%, accuracy on test = 0.9777777777777777\n",
      "df_share = 60%, accuracy on test = 0.9777777777777777\n",
      "df_share = 70%, accuracy on test = 0.9777777777777777\n",
      "df_share = 80%, accuracy on test = 0.9777777777777777\n",
      "df_share = 90%, accuracy on test = 1.0\n",
      "df_share = 100%, accuracy on test = 1.0\n"
     ]
    }
   ],
   "source": [
    "import pandas as pd\n",
    "from sklearn.datasets import load_iris\n",
    "from sklearn.model_selection import train_test_split\n",
    "\n",
    "from sklearn.svm import SVC\n",
    "\n",
    "from sklearn.pipeline import make_pipeline\n",
    "from sklearn.preprocessing import StandardScaler\n",
    "\n",
    "from sklearn.metrics import accuracy_score\n",
    "\n",
    "class Builder:\n",
    "    def __init__(self, X_train, y_train):\n",
    "        self.X_train = X_train\n",
    "        self.y_train = y_train\n",
    "\n",
    "    def get_subsample(self, df_share):\n",
    "        X_train_sample = self.X_train.copy().sample(df_share, random_state=42)\n",
    "        y_train_sample = self.y_train.copy().sample(df_share, random_state=42)\n",
    "\n",
    "        return X_train_sample, y_train_sample\n",
    "\n",
    "if __name__ == \"__main__\":\n",
    "    \"\"\"\n",
    "    1. Load iris dataset\n",
    "    2. Shuffle data and divide into train / test.\n",
    "    \"\"\"\n",
    "    X, y = load_iris(return_X_y=True)\n",
    "    X,y = pd.DataFrame(X),pd.DataFrame(y)\n",
    "    X_train, X_test, y_train, y_test = train_test_split(X, y, train_size=0.7, random_state=42)\n",
    "    svm = make_pipeline(StandardScaler(), SVC(gamma='auto'))\n",
    "    pattern_item = Builder(X_train, y_train)\n",
    "    for df_share in range(10, 101, 10):\n",
    "        curr_X_train, curr_y_train = pattern_item.get_subsample(df_share)\n",
    "\n",
    "        svm.fit(curr_X_train, curr_y_train)\n",
    "\n",
    "        y_pred = svm.predict(X_test)\n",
    "\n",
    "        accuracy = accuracy_score(y_test, y_pred)\n",
    "\n",
    "        print(f\"df_share = {df_share}%, accuracy on test = {accuracy}\")\n",
    "\n",
    "        \"\"\"\n",
    "        1. Preprocess curr_X_train, curr_y_train in the way you want\n",
    "        2. Train Linear Regression on the subsample\n",
    "        3. Save or print the score to check how df_share affects the quality\n",
    "        \"\"\""
   ]
  },
  {
   "cell_type": "code",
   "execution_count": null,
   "metadata": {},
   "outputs": [],
   "source": []
  }
 ],
 "metadata": {
  "interpreter": {
   "hash": "aee8b7b246df8f9039afb4144a1f6fd8d2ca17a180786b69acc140d282b71a49"
  },
  "kernelspec": {
   "display_name": "Python 3.9.5 64-bit",
   "language": "python",
   "name": "python3"
  },
  "language_info": {
   "codemirror_mode": {
    "name": "ipython",
    "version": 3
   },
   "file_extension": ".py",
   "mimetype": "text/x-python",
   "name": "python",
   "nbconvert_exporter": "python",
   "pygments_lexer": "ipython3",
   "version": "3.9.5"
  },
  "orig_nbformat": 4
 },
 "nbformat": 4,
 "nbformat_minor": 2
}
