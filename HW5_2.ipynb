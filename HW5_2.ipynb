{
 "cells": [
  {
   "cell_type": "code",
   "execution_count": 3,
   "metadata": {},
   "outputs": [
    {
     "name": "stdout",
     "output_type": "stream",
     "text": [
      "Accuracy score achieved with ensemble = 0.9777777777777777\n"
     ]
    }
   ],
   "source": [
    "import numpy as np\n",
    "from sklearn.datasets import load_iris\n",
    "from sklearn.model_selection import train_test_split\n",
    "from sklearn.utils import shuffle\n",
    "from sklearn.svm import SVC\n",
    "from sklearn.ensemble import RandomForestClassifier\n",
    "from sklearn.neighbors import KNeighborsClassifier\n",
    "from sklearn.metrics import accuracy_score\n",
    "\n",
    "class Module:\n",
    "    def __init__(self, classifiers):\n",
    "        self.classifiers = classifiers\n",
    "        self.number = len(self.classifiers)\n",
    "\n",
    "\n",
    "    def fit(self, X_train, y_train):\n",
    "        for clf in self.classifiers:\n",
    "            clf.fit(X_train, y_train)\n",
    "\n",
    "\n",
    "    def predict(self, X_test):\n",
    "        y_preds = []\n",
    "\n",
    "        for clf in self.classifiers:\n",
    "            y_preds.append(clf.predict(X_test))\n",
    "\n",
    "        y_preds = np.stack(y_preds)\n",
    "\n",
    "        # Most popular guess for each item. +0.5 because numpy can't round properly\n",
    "        return np.floor(y_preds.sum(axis=0) / self.number + 0.5).astype(int) \n",
    "\n",
    "\n",
    "if __name__ == \"__main__\":\n",
    "    \"\"\"\n",
    "    1. Load iris dataset\n",
    "    2. Shuffle data and divide into train / test.\n",
    "    3. Prepare classifiers to initialize <StructuralPatternName> class.\n",
    "    4. Train the ensemble\n",
    "    \"\"\"\n",
    "    train_size = 0.7\n",
    "\n",
    "    X, y = load_iris(return_X_y=True)\n",
    "    X, y = shuffle(X, y, random_state=42)\n",
    "\n",
    "    X_train, X_test, y_train, y_test = train_test_split(X, y, train_size=train_size, random_state=42)\n",
    "\n",
    "    classifiers = [SVC(),\n",
    "                   RandomForestClassifier(),\n",
    "                   KNeighborsClassifier(7)]\n",
    "\n",
    "    classifiers_gr = Module(classifiers)\n",
    "\n",
    "    classifiers_gr.fit(X_train, y_train)\n",
    "\n",
    "    y_pred = classifiers_gr.predict(X_test)\n",
    "\n",
    "    accuracy = accuracy_score(y_test, y_pred)\n",
    "\n",
    "    print(f\"Accuracy score achieved with ensemble = {accuracy}\")"
   ]
  }
 ],
 "metadata": {
  "interpreter": {
   "hash": "aee8b7b246df8f9039afb4144a1f6fd8d2ca17a180786b69acc140d282b71a49"
  },
  "kernelspec": {
   "display_name": "Python 3.9.5 64-bit",
   "language": "python",
   "name": "python3"
  },
  "language_info": {
   "codemirror_mode": {
    "name": "ipython",
    "version": 3
   },
   "file_extension": ".py",
   "mimetype": "text/x-python",
   "name": "python",
   "nbconvert_exporter": "python",
   "pygments_lexer": "ipython3",
   "version": "3.9.5"
  },
  "orig_nbformat": 4
 },
 "nbformat": 4,
 "nbformat_minor": 2
}
